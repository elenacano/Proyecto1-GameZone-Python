{
 "cells": [
  {
   "cell_type": "markdown",
   "metadata": {},
   "source": [
    "## Piedra-papel-tijera"
   ]
  },
  {
   "cell_type": "markdown",
   "metadata": {},
   "source": [
    " En este juego el usuario tendrá que elegir una de las opciones y después la máquina eligirá otra al azar. Gana el primero que gane tres rondas en total. Además la empresa nos ha pedido que, además del juego clásico, el usuario pueda elegir la opción de jugar a piedra-papel-tijera-lagarto-spock.\n"
   ]
  },
  {
   "cell_type": "code",
   "execution_count": null,
   "metadata": {},
   "outputs": [],
   "source": [
    "class Partida():\n",
    "    def __init__(self, tirada):\n",
    "        \"\"\"Constructor de la partida\n",
    "\n",
    "        Args:\n",
    "            tirada (str): opción que ha elegido el usuario entre: \"piedra\", \"papel\", \"tijera\" (\"lagarto\", \"spoke\")\n",
    "        \"\"\"\n",
    "\n",
    "        # Los atributos son:\n",
    "        self.tirada = tirada\n",
    "\n",
    "\n",
    "    # Los métodos son:\n",
    "\n",
    "    def tiro_maquina(self):\n",
    "        self.tirada_maquina = 1\n",
    "        return self.tirada_maquina\n",
    "    \n",
    "    def vacunas(self, num_vacunas):\n",
    "        self.numero_vacunas = num_vacunas\n",
    "        if self.especie == 'gato':\n",
    "            if num_vacunas < 3:\n",
    "                return \"A tu gatito le faltan vacunas\"\n",
    "            else:\n",
    "                return \"Tu gatito está al día con sus vacunas\"\n",
    "            \n",
    "\n",
    "    def get_vacunas(self):\n",
    "        try:\n",
    "            return self.numero_vacunas\n",
    "        except:\n",
    "            return \"Ejecute primero el metodo 'vacunas'\""
   ]
  },
  {
   "cell_type": "code",
   "execution_count": 5,
   "metadata": {},
   "outputs": [
    {
     "name": "stdout",
     "output_type": "stream",
     "text": [
      "Bienvenido al juego. Tienes 5 intentos para ganar a la máquina.\n"
     ]
    },
    {
     "ename": "NameError",
     "evalue": "name 'eleccion_jugador' is not defined",
     "output_type": "error",
     "traceback": [
      "\u001b[1;31m---------------------------------------------------------------------------\u001b[0m",
      "\u001b[1;31mNameError\u001b[0m                                 Traceback (most recent call last)",
      "Cell \u001b[1;32mIn[5], line 18\u001b[0m\n\u001b[0;32m     16\u001b[0m         \u001b[38;5;28mprint\u001b[39m(\u001b[38;5;124m'\u001b[39m\u001b[38;5;124mEsa opción no es válida. Intenta de nuevo.\u001b[39m\u001b[38;5;124m'\u001b[39m)\n\u001b[0;32m     17\u001b[0m eleccion_maquina \u001b[38;5;241m=\u001b[39m random\u001b[38;5;241m.\u001b[39mchoice(opciones_validas)\n\u001b[1;32m---> 18\u001b[0m \u001b[38;5;28;01mif\u001b[39;00m \u001b[43meleccion_jugador\u001b[49m \u001b[38;5;241m==\u001b[39m eleccion_maquina:\n\u001b[0;32m     19\u001b[0m     \u001b[38;5;28mprint\u001b[39m(\u001b[38;5;124m'\u001b[39m\u001b[38;5;124mEmpate\u001b[39m\u001b[38;5;124m'\u001b[39m)\n\u001b[0;32m     20\u001b[0m \u001b[38;5;28;01melif\u001b[39;00m (eleccion_jugador \u001b[38;5;241m==\u001b[39m \u001b[38;5;124m'\u001b[39m\u001b[38;5;124mPiedra\u001b[39m\u001b[38;5;124m'\u001b[39m\u001b[38;5;129;01mand\u001b[39;00m eleccion_maquina \u001b[38;5;241m==\u001b[39m \u001b[38;5;124m'\u001b[39m\u001b[38;5;124mTijera\u001b[39m\u001b[38;5;124m'\u001b[39m) \u001b[38;5;129;01mor\u001b[39;00m (eleccion_jugador \u001b[38;5;241m==\u001b[39m \u001b[38;5;124m'\u001b[39m\u001b[38;5;124mPapel\u001b[39m\u001b[38;5;124m'\u001b[39m\u001b[38;5;129;01mand\u001b[39;00m eleccion_maquina \u001b[38;5;241m==\u001b[39m \u001b[38;5;124m'\u001b[39m\u001b[38;5;124mPiedra\u001b[39m\u001b[38;5;124m'\u001b[39m) \u001b[38;5;129;01mor\u001b[39;00m (eleccion_jugador \u001b[38;5;241m==\u001b[39m \u001b[38;5;124m'\u001b[39m\u001b[38;5;124mTijera\u001b[39m\u001b[38;5;124m'\u001b[39m\u001b[38;5;129;01mand\u001b[39;00m eleccion_maquina \u001b[38;5;241m==\u001b[39m \u001b[38;5;124m'\u001b[39m\u001b[38;5;124mPapel\u001b[39m\u001b[38;5;124m'\u001b[39m):\n",
      "\u001b[1;31mNameError\u001b[0m: name 'eleccion_jugador' is not defined"
     ]
    }
   ],
   "source": [
    "import random\n",
    "\n",
    "intentos_restantes = 5\n",
    "opciones_validas = ['Piedra', 'Papel', 'Tijera']\n",
    "\n",
    "i=1\n",
    "while i>0:\n",
    "    print(f'Bienvenido al juego. Tienes {intentos_restantes} intentos para ganar a la máquina.')\n",
    "    score = {\"jugador\": 0, \"maquina\": 0}\n",
    "    for i in range(intentos_restantes):\n",
    "        while i>0:\n",
    "            eleccion_jugador = input(f'Ingresa una de las siguientes opciones: {\", \".join(opciones_validas)} ').capitalize()\n",
    "            if eleccion_jugador in opciones_validas:\n",
    "                break\n",
    "            else:\n",
    "                print('Esa opción no es válida. Intenta de nuevo.')\n",
    "        eleccion_maquina = random.choice(opciones_validas)\n",
    "        if eleccion_jugador == eleccion_maquina:\n",
    "            print('Empate')\n",
    "        elif (eleccion_jugador == 'Piedra'and eleccion_maquina == 'Tijera') or (eleccion_jugador == 'Papel'and eleccion_maquina == 'Piedra') or (eleccion_jugador == 'Tijera'and eleccion_maquina == 'Papel'):\n",
    "            print('Ganaste')\n",
    "            score[\"jugador\"] += 1\n",
    "        else:\n",
    "            print('Perdiste')\n",
    "            score[\"maquina\"] += 1\n",
    "        if score[\"jugador\"] == 2:\n",
    "            print('¡Ganaste!')\n",
    "            break\n",
    "        elif score[\"maquina\"] == 2:\n",
    "            print('¡Perdiste!')\n",
    "            break\n",
    "    intentos_restantes -= 1\n",
    "    if intentos_restantes == 0:\n",
    "        print('Se han acabado los intentos. Fin del juego.')\n",
    "        break"
   ]
  },
  {
   "cell_type": "code",
   "execution_count": null,
   "metadata": {},
   "outputs": [],
   "source": []
  }
 ],
 "metadata": {
  "kernelspec": {
   "display_name": "Python 3",
   "language": "python",
   "name": "python3"
  },
  "language_info": {
   "codemirror_mode": {
    "name": "ipython",
    "version": 3
   },
   "file_extension": ".py",
   "mimetype": "text/x-python",
   "name": "python",
   "nbconvert_exporter": "python",
   "pygments_lexer": "ipython3",
   "version": "3.12.4"
  }
 },
 "nbformat": 4,
 "nbformat_minor": 2
}
